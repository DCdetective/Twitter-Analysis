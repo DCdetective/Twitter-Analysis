{
 "cells": [
  {
   "cell_type": "code",
   "execution_count": 2,
   "metadata": {},
   "outputs": [
    {
     "name": "stdout",
     "output_type": "stream",
     "text": [
      "helloo worlds\n"
     ]
    }
   ],
   "source": [
    "print(\"helloo worlds\")"
   ]
  },
  {
   "cell_type": "code",
   "execution_count": 3,
   "metadata": {},
   "outputs": [],
   "source": [
    "import pandas as pd\n",
    "import numpy as np"
   ]
  },
  {
   "cell_type": "code",
   "execution_count": 4,
   "metadata": {},
   "outputs": [],
   "source": [
    "from twikit import Client , TooManyRequests\n",
    "import time\n",
    "from datetime import datetime\n",
    "import csv\n",
    "from configparser import ConfigParser\n",
    "from random import randint"
   ]
  },
  {
   "cell_type": "code",
   "execution_count": 5,
   "metadata": {},
   "outputs": [],
   "source": [
    "MINIMUM_TWEETS = 30\n",
    "QUERY = '(from:elonmusk) lang:en until:2025-03-30 since:2025-01-08'"
   ]
  },
  {
   "cell_type": "code",
   "execution_count": 6,
   "metadata": {},
   "outputs": [],
   "source": [
    "# login credentials\n",
    "email = 'mmushashi30@gmail.com'\n",
    "password = 'abdulaleem123'\n",
    "username = 'DC___detective'"
   ]
  },
  {
   "cell_type": "code",
   "execution_count": 7,
   "metadata": {},
   "outputs": [],
   "source": [
    "def get_tweets(tweets):\n",
    "    if tweets is None:\n",
    "        #* get tweets\n",
    "        print(f'{datetime.now()} - Getting tweets...')\n",
    "        tweets = client.search_tweet(QUERY, product='Top')\n",
    "    else:\n",
    "        wait_time = randint(5, 10)\n",
    "        print(f'{datetime.now()} - Getting next tweets after {wait_time} seconds ...')\n",
    "        time.sleep(wait_time)\n",
    "        tweets = tweets.next()\n",
    "\n",
    "    return tweets"
   ]
  },
  {
   "cell_type": "code",
   "execution_count": 24,
   "metadata": {},
   "outputs": [],
   "source": [
    "with open('tweets.csv', 'w', newline='') as file:\n",
    "    writer = csv.writer(file)\n",
    "    writer.writerow(['Tweet_count','ID', 'Username', 'Text', 'Created At', 'Retweets', 'Likes'])"
   ]
  },
  {
   "cell_type": "code",
   "execution_count": 9,
   "metadata": {},
   "outputs": [],
   "source": [
    "client = Client(language='en-US')\n",
    "await client.login(auth_info_1=username, auth_info_2=email, password=password)\n",
    "client.save_cookies('cookies.json')\n"
   ]
  },
  {
   "cell_type": "code",
   "execution_count": 10,
   "metadata": {},
   "outputs": [],
   "source": [
    "client.load_cookies('cookies.json')"
   ]
  },
  {
   "cell_type": "code",
   "execution_count": 11,
   "metadata": {},
   "outputs": [
    {
     "name": "stdout",
     "output_type": "stream",
     "text": [
      "{'_client': <twikit.client.client.Client object at 0x000001A66912DC10>, '_data': {'__typename': 'Tweet', 'rest_id': '1905906539572887587', 'core': {'user_results': {'result': {'__typename': 'User', 'id': 'VXNlcjo0NDE5NjM5Nw==', 'rest_id': '44196397', 'affiliates_highlighted_label': {'label': {'url': {'url': 'https://twitter.com/X', 'urlType': 'DeepLink'}, 'badge': {'url': 'https://pbs.twimg.com/profile_images/1683899100922511378/5lY42eHs_bigger.jpg'}, 'description': 'X', 'userLabelType': 'BusinessLabel', 'userLabelDisplayType': 'Badge'}}, 'has_graduated_access': True, 'is_blue_verified': True, 'profile_image_shape': 'Circle', 'legacy': {'can_dm': False, 'can_media_tag': False, 'created_at': 'Tue Jun 02 20:12:29 +0000 2009', 'default_profile': False, 'default_profile_image': False, 'description': '', 'entities': {'description': {'urls': []}}, 'fast_followers_count': 0, 'favourites_count': 139632, 'followers_count': 218826927, 'friends_count': 1101, 'has_custom_timelines': True, 'is_translator': False, 'listed_count': 161750, 'location': '', 'media_count': 3750, 'name': 'Elon Musk', 'normal_followers_count': 218826927, 'pinned_tweet_ids_str': ['1908025106795823436'], 'possibly_sensitive': False, 'profile_banner_url': 'https://pbs.twimg.com/profile_banners/44196397/1739948056', 'profile_image_url_https': 'https://pbs.twimg.com/profile_images/1893803697185910784/Na5lOWi5_normal.jpg', 'profile_interstitial_type': '', 'screen_name': 'elonmusk', 'statuses_count': 76441, 'translator_type': 'none', 'verified': False, 'want_retweets': False, 'withheld_in_countries': []}, 'professional': {'rest_id': '1679729435447275522', 'professional_type': 'Creator', 'category': []}, 'super_follow_eligible': True}}}, 'unmention_data': {}, 'edit_control': {'edit_tweet_ids': ['1905906539572887587'], 'editable_until_msecs': '1743242103000', 'is_edit_eligible': True, 'edits_remaining': '5'}, 'is_translatable': False, 'views': {'count': '33948908', 'state': 'EnabledWithCount'}, 'source': '<a href=\"http://twitter.com/download/iphone\" rel=\"nofollow\">Twitter for iPhone</a>', 'quoted_status_result': {'result': {'__typename': 'Tweet', 'rest_id': '1905832932985684240', 'core': {'user_results': {'result': {'__typename': 'User', 'id': 'VXNlcjoxMzMwMTcwMTA2NTAxMDc5MDQx', 'rest_id': '1330170106501079041', 'affiliates_highlighted_label': {'label': {'url': {'url': 'https://twitter.com/SpaceX', 'urlType': 'DeepLink'}, 'badge': {'url': 'https://pbs.twimg.com/profile_images/1697749409851985920/HbrI04tM_bigger.jpg'}, 'description': 'SpaceX', 'userLabelType': 'BusinessLabel', 'userLabelDisplayType': 'Badge'}}, 'has_graduated_access': True, 'is_blue_verified': True, 'profile_image_shape': 'Square', 'legacy': {'can_dm': False, 'can_media_tag': False, 'created_at': 'Sat Nov 21 15:25:07 +0000 2020', 'default_profile': True, 'default_profile_image': False, 'description': 'Internet from space for humans on Earth. Engineered by @SpaceX', 'entities': {'description': {'urls': []}, 'url': {'urls': [{'display_url': 'starlink.com', 'expanded_url': 'http://starlink.com', 'url': 'https://t.co/VvFvTR8D5a', 'indices': [0, 23]}]}}, 'fast_followers_count': 0, 'favourites_count': 284, 'followers_count': 1169656, 'friends_count': 27, 'has_custom_timelines': False, 'is_translator': False, 'listed_count': 1903, 'location': '', 'media_count': 115, 'name': 'Starlink', 'normal_followers_count': 1169656, 'pinned_tweet_ids_str': ['1895559922991153367'], 'possibly_sensitive': False, 'profile_banner_url': 'https://pbs.twimg.com/profile_banners/1330170106501079041/1703255467', 'profile_image_url_https': 'https://pbs.twimg.com/profile_images/1720501511271383040/FXz_jiJu_normal.jpg', 'profile_interstitial_type': '', 'screen_name': 'Starlink', 'statuses_count': 382, 'translator_type': 'none', 'url': 'https://t.co/VvFvTR8D5a', 'verified': False, 'verified_type': 'Business', 'want_retweets': False, 'withheld_in_countries': []}, 'professional': {'rest_id': '1672692998029623298', 'professional_type': 'Business', 'category': []}}}}, 'unmention_data': {}, 'edit_control': {'edit_tweet_ids': ['1905832932985684240'], 'editable_until_msecs': '1743224554000', 'is_edit_eligible': True, 'edits_remaining': '5'}, 'is_translatable': False, 'views': {'count': '34111226', 'state': 'EnabledWithCount'}, 'source': '<a href=\"https://mobile.twitter.com\" rel=\"nofollow\">Twitter Web App</a>', 'legacy': {'bookmark_count': 317, 'bookmarked': False, 'created_at': 'Sat Mar 29 04:02:34 +0000 2025', 'conversation_id_str': '1905832932985684240', 'display_text_range': [0, 108], 'entities': {'hashtags': [], 'media': [{'display_url': 'pic.x.com/oabBYuYfT0', 'expanded_url': 'https://x.com/Starlink/status/1905832932985684240/photo/1', 'id_str': '1905832332491362304', 'indices': [109, 132], 'media_key': '3_1905832332491362304', 'media_url_https': 'https://pbs.twimg.com/media/GnLgaKuaEAAC3Tp.jpg', 'type': 'photo', 'url': 'https://t.co/oabBYuYfT0', 'ext_media_availability': {'status': 'Available'}, 'features': {'large': {'faces': [{'x': 631, 'y': 637, 'h': 40, 'w': 40}, {'x': 105, 'y': 664, 'h': 54, 'w': 54}, {'x': 216, 'y': 437, 'h': 59, 'w': 59}, {'x': 519, 'y': 717, 'h': 60, 'w': 60}, {'x': 87, 'y': 651, 'h': 86, 'w': 86}, {'x': 15, 'y': 560, 'h': 114, 'w': 114}]}, 'medium': {'faces': [{'x': 631, 'y': 637, 'h': 40, 'w': 40}, {'x': 105, 'y': 664, 'h': 54, 'w': 54}, {'x': 216, 'y': 437, 'h': 59, 'w': 59}, {'x': 519, 'y': 717, 'h': 60, 'w': 60}, {'x': 87, 'y': 651, 'h': 86, 'w': 86}, {'x': 15, 'y': 560, 'h': 114, 'w': 114}]}, 'small': {'faces': [{'x': 481, 'y': 485, 'h': 30, 'w': 30}, {'x': 80, 'y': 506, 'h': 41, 'w': 41}, {'x': 164, 'y': 333, 'h': 44, 'w': 44}, {'x': 395, 'y': 546, 'h': 45, 'w': 45}, {'x': 66, 'y': 496, 'h': 65, 'w': 65}, {'x': 11, 'y': 426, 'h': 86, 'w': 86}]}, 'orig': {'faces': [{'x': 631, 'y': 637, 'h': 40, 'w': 40}, {'x': 105, 'y': 664, 'h': 54, 'w': 54}, {'x': 216, 'y': 437, 'h': 59, 'w': 59}, {'x': 519, 'y': 717, 'h': 60, 'w': 60}, {'x': 87, 'y': 651, 'h': 86, 'w': 86}, {'x': 15, 'y': 560, 'h': 114, 'w': 114}]}}, 'sizes': {'large': {'h': 892, 'w': 892, 'resize': 'fit'}, 'medium': {'h': 892, 'w': 892, 'resize': 'fit'}, 'small': {'h': 680, 'w': 680, 'resize': 'fit'}, 'thumb': {'h': 150, 'w': 150, 'resize': 'crop'}}, 'original_info': {'height': 892, 'width': 892, 'focus_rects': [{'x': 0, 'y': 0, 'w': 892, 'h': 500}, {'x': 0, 'y': 0, 'w': 892, 'h': 892}, {'x': 0, 'y': 0, 'w': 782, 'h': 892}, {'x': 0, 'y': 0, 'w': 446, 'h': 892}, {'x': 0, 'y': 0, 'w': 892, 'h': 892}]}, 'allow_download_status': {'allow_download': True}, 'media_results': {'result': {'media_key': '3_1905832332491362304'}}}], 'symbols': [], 'timestamps': [], 'urls': [{'display_url': 'starlink.com/map?country=AZ', 'expanded_url': 'http://starlink.com/map?country=AZ', 'url': 'https://t.co/iPXYizD1YE', 'indices': [85, 108]}], 'user_mentions': []}, 'extended_entities': {'media': [{'display_url': 'pic.x.com/oabBYuYfT0', 'expanded_url': 'https://x.com/Starlink/status/1905832932985684240/photo/1', 'id_str': '1905832332491362304', 'indices': [109, 132], 'media_key': '3_1905832332491362304', 'media_url_https': 'https://pbs.twimg.com/media/GnLgaKuaEAAC3Tp.jpg', 'type': 'photo', 'url': 'https://t.co/oabBYuYfT0', 'ext_media_availability': {'status': 'Available'}, 'features': {'large': {'faces': [{'x': 631, 'y': 637, 'h': 40, 'w': 40}, {'x': 105, 'y': 664, 'h': 54, 'w': 54}, {'x': 216, 'y': 437, 'h': 59, 'w': 59}, {'x': 519, 'y': 717, 'h': 60, 'w': 60}, {'x': 87, 'y': 651, 'h': 86, 'w': 86}, {'x': 15, 'y': 560, 'h': 114, 'w': 114}]}, 'medium': {'faces': [{'x': 631, 'y': 637, 'h': 40, 'w': 40}, {'x': 105, 'y': 664, 'h': 54, 'w': 54}, {'x': 216, 'y': 437, 'h': 59, 'w': 59}, {'x': 519, 'y': 717, 'h': 60, 'w': 60}, {'x': 87, 'y': 651, 'h': 86, 'w': 86}, {'x': 15, 'y': 560, 'h': 114, 'w': 114}]}, 'small': {'faces': [{'x': 481, 'y': 485, 'h': 30, 'w': 30}, {'x': 80, 'y': 506, 'h': 41, 'w': 41}, {'x': 164, 'y': 333, 'h': 44, 'w': 44}, {'x': 395, 'y': 546, 'h': 45, 'w': 45}, {'x': 66, 'y': 496, 'h': 65, 'w': 65}, {'x': 11, 'y': 426, 'h': 86, 'w': 86}]}, 'orig': {'faces': [{'x': 631, 'y': 637, 'h': 40, 'w': 40}, {'x': 105, 'y': 664, 'h': 54, 'w': 54}, {'x': 216, 'y': 437, 'h': 59, 'w': 59}, {'x': 519, 'y': 717, 'h': 60, 'w': 60}, {'x': 87, 'y': 651, 'h': 86, 'w': 86}, {'x': 15, 'y': 560, 'h': 114, 'w': 114}]}}, 'sizes': {'large': {'h': 892, 'w': 892, 'resize': 'fit'}, 'medium': {'h': 892, 'w': 892, 'resize': 'fit'}, 'small': {'h': 680, 'w': 680, 'resize': 'fit'}, 'thumb': {'h': 150, 'w': 150, 'resize': 'crop'}}, 'original_info': {'height': 892, 'width': 892, 'focus_rects': [{'x': 0, 'y': 0, 'w': 892, 'h': 500}, {'x': 0, 'y': 0, 'w': 892, 'h': 892}, {'x': 0, 'y': 0, 'w': 782, 'h': 892}, {'x': 0, 'y': 0, 'w': 446, 'h': 892}, {'x': 0, 'y': 0, 'w': 892, 'h': 892}]}, 'allow_download_status': {'allow_download': True}, 'media_results': {'result': {'media_key': '3_1905832332491362304'}}}]}, 'favorite_count': 7343, 'favorited': False, 'full_text': 'Starlink’s high-speed, low-latency internet is now available in Azerbaijan! 🛰️🇦🇿❤️ → https://t.co/iPXYizD1YE https://t.co/oabBYuYfT0', 'is_quote_status': False, 'lang': 'en', 'possibly_sensitive': False, 'possibly_sensitive_editable': True, 'quote_count': 238, 'reply_count': 633, 'retweet_count': 848, 'retweeted': False, 'user_id_str': '1330170106501079041', 'id_str': '1905832932985684240'}}}, 'legacy': {'bookmark_count': 2376, 'bookmarked': False, 'created_at': 'Sat Mar 29 08:55:03 +0000 2025', 'conversation_id_str': '1905906539572887587', 'display_text_range': [0, 30], 'entities': {'hashtags': [], 'symbols': [], 'timestamps': [], 'urls': [], 'user_mentions': []}, 'favorite_count': 95827, 'favorited': False, 'full_text': 'Starlink now in Azerbaijan 🇦🇿!', 'is_quote_status': True, 'lang': 'en', 'quote_count': 712, 'quoted_status_id_str': '1905832932985684240', 'quoted_status_permalink': {'url': 'https://t.co/pxLj4dARLb', 'expanded': 'https://twitter.com/starlink/status/1905832932985684240', 'display': 'x.com/starlink/statu…'}, 'reply_count': 5282, 'retweet_count': 9208, 'retweeted': False, 'user_id_str': '44196397', 'id_str': '1905906539572887587'}}, '_legacy': {'bookmark_count': 2376, 'bookmarked': False, 'created_at': 'Sat Mar 29 08:55:03 +0000 2025', 'conversation_id_str': '1905906539572887587', 'display_text_range': [0, 30], 'entities': {'hashtags': [], 'symbols': [], 'timestamps': [], 'urls': [], 'user_mentions': []}, 'favorite_count': 95827, 'favorited': False, 'full_text': 'Starlink now in Azerbaijan 🇦🇿!', 'is_quote_status': True, 'lang': 'en', 'quote_count': 712, 'quoted_status_id_str': '1905832932985684240', 'quoted_status_permalink': {'url': 'https://t.co/pxLj4dARLb', 'expanded': 'https://twitter.com/starlink/status/1905832932985684240', 'display': 'x.com/starlink/statu…'}, 'reply_count': 5282, 'retweet_count': 9208, 'retweeted': False, 'user_id_str': '44196397', 'id_str': '1905906539572887587'}, 'user': <User id=\"44196397\">, 'replies': None, 'reply_to': None, 'related_tweets': None, 'thread': None}\n"
     ]
    }
   ],
   "source": [
    "tweets = await client.search_tweet(QUERY, product='Top')\n",
    "\n",
    "for tweet in tweets:\n",
    "    print(vars(tweet))\n",
    "    break\n"
   ]
  },
  {
   "cell_type": "code",
   "execution_count": 12,
   "metadata": {},
   "outputs": [],
   "source": [
    "tweet_count = 0"
   ]
  },
  {
   "cell_type": "code",
   "execution_count": 25,
   "metadata": {},
   "outputs": [
    {
     "name": "stdout",
     "output_type": "stream",
     "text": [
      "2025-04-05 17:42:59.846493 - Getting tweets...\n",
      "2025-04-05 17:43:01.141555 - Getting tweets...\n",
      "[1, '1905399600506101923', 'Elon Musk', 'Cool, @Grok is #1 on Android! https://t.co/RLn9Da5EdN', 'Thu Mar 27 23:20:40 +0000 2025', 17560, 256368]\n",
      "[2, '1905025427384807617', 'Elon Musk', 'Theme of the day https://t.co/2ioG0StAxL', 'Wed Mar 26 22:33:50 +0000 2025', 44840, 599925]\n",
      "[3, '1905679299966914783', 'Elon Musk', 'Take a tequila shot every time Obama said “government efficiency” \\n https://t.co/gFLaK2Iwbb', 'Fri Mar 28 17:52:05 +0000 2025', 34197, 217046]\n",
      "[4, '1905906539572887587', 'Elon Musk', 'Starlink now in Azerbaijan 🇦🇿!', 'Sat Mar 29 08:55:03 +0000 2025', 9209, 95828]\n",
      "[5, '1905731750275510312', 'Elon Musk', '@xAI has acquired @X in an all-stock transaction. The combination values xAI at $80 billion and X at $33 billion ($45B less $12B debt). \\n\\nSince its founding two years ago, xAI has rapidly become one of the leading AI labs in the world, building models and data centers at', 'Fri Mar 28 21:20:30 +0000 2025', 32812, 244779]\n",
      "[6, '1906096888560165107', 'Elon Musk', 'Everything is computer', 'Sat Mar 29 21:31:26 +0000 2025', 7506, 87803]\n",
      "[7, '1905310258576109822', 'Elon Musk', 'Starlink now available in Oman!', 'Thu Mar 27 17:25:39 +0000 2025', 6813, 68536]\n",
      "[8, '1905789301557715397', 'Elon Musk', 'Even more important than the Wisconsin Supreme Court race is the ballot initiative to add voter ID to the state constitution, which will ensure integrity in elections. \\n\\nBoth are decided on April 1st. \\n\\nVery important to vote and encourage anyone you know in Wisconsin to vote!', 'Sat Mar 29 01:09:12 +0000 2025', 36544, 143142]\n",
      "[9, '1905319313482924318', 'Elon Musk', 'Starlink now active in Armenia!', 'Thu Mar 27 18:01:38 +0000 2025', 7905, 69606]\n",
      "[10, '1905784244947112297', 'Elon Musk', 'Yeah https://t.co/t2faGIdlup', 'Sat Mar 29 00:49:06 +0000 2025', 17905, 245486]\n",
      "[11, '1906098459767419195', 'Elon Musk', 'First time humans will be in polar orbit around Earth launches on Monday!\\n\\n@framonauts', 'Sat Mar 29 21:37:41 +0000 2025', 20498, 157524]\n",
      "[12, '1905591707036443031', 'Elon Musk', 'Correct', 'Fri Mar 28 12:04:01 +0000 2025', 46338, 159691]\n",
      "[13, '1906103057466659300', 'Elon Musk', 'The goal of the left is to destroy my influence. \\n\\nSo they relentlessly push negative propaganda about me like the fake Nazi stuff and ignore anything positive. \\n\\nThey are evil.', 'Sat Mar 29 21:55:57 +0000 2025', 58212, 320409]\n",
      "[14, '1905616665766740084', 'Elon Musk', 'Such hypocrisy', 'Fri Mar 28 13:43:12 +0000 2025', 52167, 386008]\n",
      "[15, '1906103511827292374', 'Elon Musk', 'Interesting 🤔', 'Sat Mar 29 21:57:45 +0000 2025', 41795, 234625]\n",
      "[16, '1905597014659707057', 'Elon Musk', 'AppLovin CEO uses Grok 3 https://t.co/aBUxHSs1XW', 'Fri Mar 28 12:25:07 +0000 2025', 2579, 15083]\n",
      "[17, '1905264864408256980', 'Elon Musk', 'Amazing', 'Thu Mar 27 14:25:16 +0000 2025', 31651, 144051]\n",
      "[18, '1905524404999639476', 'Elon Musk', 'Congratulations, Scott Ainsworth of Green Bay!', 'Fri Mar 28 07:36:35 +0000 2025', 17573, 116470]\n",
      "[19, '1906096684955775326', 'Elon Musk', 'True https://t.co/DWUadoe6mQ', 'Sat Mar 29 21:30:37 +0000 2025', 14021, 96023]\n",
      "[20, '1905021584064356526', 'Elon Musk', '@DefiantLs We got a ringer here! @IfindRetards', 'Wed Mar 26 22:18:33 +0000 2025', 1828, 35392]\n",
      "2025-04-05 17:43:02.299995 - Getting next tweets after 10 seconds ...\n",
      "2025-04-05 17:43:14.356126 - Getting tweets...\n",
      "[21, '1905399600506101923', 'Elon Musk', 'Cool, @Grok is #1 on Android! https://t.co/RLn9Da5EdN', 'Thu Mar 27 23:20:40 +0000 2025', 17561, 256368]\n",
      "[22, '1905025427384807617', 'Elon Musk', 'Theme of the day https://t.co/2ioG0StAxL', 'Wed Mar 26 22:33:50 +0000 2025', 44841, 599926]\n",
      "[23, '1905679299966914783', 'Elon Musk', 'Take a tequila shot every time Obama said “government efficiency” \\n https://t.co/gFLaK2Iwbb', 'Fri Mar 28 17:52:05 +0000 2025', 34197, 217046]\n",
      "[24, '1905906539572887587', 'Elon Musk', 'Starlink now in Azerbaijan 🇦🇿!', 'Sat Mar 29 08:55:03 +0000 2025', 9209, 95828]\n",
      "[25, '1905731750275510312', 'Elon Musk', '@xAI has acquired @X in an all-stock transaction. The combination values xAI at $80 billion and X at $33 billion ($45B less $12B debt). \\n\\nSince its founding two years ago, xAI has rapidly become one of the leading AI labs in the world, building models and data centers at', 'Fri Mar 28 21:20:30 +0000 2025', 32812, 244779]\n",
      "[26, '1906096888560165107', 'Elon Musk', 'Everything is computer', 'Sat Mar 29 21:31:26 +0000 2025', 7506, 87803]\n",
      "[27, '1905310258576109822', 'Elon Musk', 'Starlink now available in Oman!', 'Thu Mar 27 17:25:39 +0000 2025', 6814, 68537]\n",
      "[28, '1905319313482924318', 'Elon Musk', 'Starlink now active in Armenia!', 'Thu Mar 27 18:01:38 +0000 2025', 7906, 69606]\n",
      "[29, '1905784244947112297', 'Elon Musk', 'Yeah https://t.co/t2faGIdlup', 'Sat Mar 29 00:49:06 +0000 2025', 17905, 245486]\n",
      "[30, '1906098459767419195', 'Elon Musk', 'First time humans will be in polar orbit around Earth launches on Monday!\\n\\n@framonauts', 'Sat Mar 29 21:37:41 +0000 2025', 20498, 157524]\n",
      "[31, '1905789301557715397', 'Elon Musk', 'Even more important than the Wisconsin Supreme Court race is the ballot initiative to add voter ID to the state constitution, which will ensure integrity in elections. \\n\\nBoth are decided on April 1st. \\n\\nVery important to vote and encourage anyone you know in Wisconsin to vote!', 'Sat Mar 29 01:09:12 +0000 2025', 36544, 143142]\n",
      "[32, '1905591707036443031', 'Elon Musk', 'Correct', 'Fri Mar 28 12:04:01 +0000 2025', 46338, 159691]\n",
      "[33, '1906103057466659300', 'Elon Musk', 'The goal of the left is to destroy my influence. \\n\\nSo they relentlessly push negative propaganda about me like the fake Nazi stuff and ignore anything positive. \\n\\nThey are evil.', 'Sat Mar 29 21:55:57 +0000 2025', 58212, 320409]\n",
      "[34, '1905616665766740084', 'Elon Musk', 'Such hypocrisy', 'Fri Mar 28 13:43:12 +0000 2025', 52167, 386008]\n",
      "[35, '1906103511827292374', 'Elon Musk', 'Interesting 🤔', 'Sat Mar 29 21:57:45 +0000 2025', 41795, 234625]\n",
      "[36, '1905597014659707057', 'Elon Musk', 'AppLovin CEO uses Grok 3 https://t.co/aBUxHSs1XW', 'Fri Mar 28 12:25:07 +0000 2025', 2579, 15083]\n",
      "[37, '1905264864408256980', 'Elon Musk', 'Amazing', 'Thu Mar 27 14:25:16 +0000 2025', 31652, 144051]\n",
      "[38, '1905524404999639476', 'Elon Musk', 'Congratulations, Scott Ainsworth of Green Bay!', 'Fri Mar 28 07:36:35 +0000 2025', 17573, 116470]\n",
      "[39, '1906096684955775326', 'Elon Musk', 'True https://t.co/DWUadoe6mQ', 'Sat Mar 29 21:30:37 +0000 2025', 14021, 96023]\n",
      "[40, '1905021584064356526', 'Elon Musk', '@DefiantLs We got a ringer here! @IfindRetards', 'Wed Mar 26 22:18:33 +0000 2025', 1828, 35392]\n"
     ]
    }
   ],
   "source": [
    "async def get_tweets(tweets):\n",
    "        if tweets is None:\n",
    "            print(f'{datetime.now()} - Getting tweets...')\n",
    "            tweets = await client.search_tweet(QUERY, product = 'Top')\n",
    "        else :\n",
    "            wait_time = randint(5, 10)\n",
    "            print(f'{datetime.now()} - Getting next tweets after {wait_time} seconds ...')\n",
    "            time.sleep(wait_time)\n",
    "            tweets = await tweets.next()\n",
    "            \n",
    "async def fetch_tweets():\n",
    "    \n",
    "    tweet_count = 0\n",
    "    tweets = None\n",
    "    \n",
    "    while tweet_count < MINIMUM_TWEETS:\n",
    "        \n",
    "        try:\n",
    "            tweets = await get_tweets(tweets)\n",
    "        except TooManyRequests as e:\n",
    "            rate_limit_reset = datetime.fromtimestamp(e.rate_limit_reset)\n",
    "            print(f'{datetime.now()} - Rate minit reached.  Waiting until {rate_limit_reset}')\n",
    "            wait_time = rate_limit_reset - datetime.now()\n",
    "            time.sleep(wait_time.total_seconds())\n",
    "            \n",
    "        if tweets is None:\n",
    "            print(f'{datetime.now()} - Getting tweets...')\n",
    "            tweets = await client.search_tweet(QUERY, product = 'Top')\n",
    "        else :\n",
    "            print(f'{datetime.now()} - Getting next tweets ...')\n",
    "            tweets = await tweets.next()\n",
    "        \n",
    "        if not tweets :\n",
    "            print(f'{datetime.now()} - No more tweets are found')\n",
    "        for tweet in tweets:\n",
    "            tweet_count = tweet_count + 1\n",
    "            tweet_data = [tweet_count, tweet.id , tweet.user.name , tweet.text , tweet.created_at , tweet.retweet_count , tweet.favorite_count]\n",
    "            with open('tweets.csv', 'a', newline='', encoding='utf-8') as file:\n",
    "                writer = csv.writer(file)\n",
    "                writer.writerow(tweet_data)\n",
    "\n",
    "                \n",
    "            print(tweet_data)\n",
    "        \n",
    "\n",
    "await fetch_tweets()\n"
   ]
  },
  {
   "cell_type": "code",
   "execution_count": 26,
   "metadata": {},
   "outputs": [],
   "source": [
    "df = pd.read_csv('tweets.csv')"
   ]
  },
  {
   "cell_type": "code",
   "execution_count": 27,
   "metadata": {},
   "outputs": [
    {
     "data": {
      "text/html": [
       "<div>\n",
       "<style scoped>\n",
       "    .dataframe tbody tr th:only-of-type {\n",
       "        vertical-align: middle;\n",
       "    }\n",
       "\n",
       "    .dataframe tbody tr th {\n",
       "        vertical-align: top;\n",
       "    }\n",
       "\n",
       "    .dataframe thead th {\n",
       "        text-align: right;\n",
       "    }\n",
       "</style>\n",
       "<table border=\"1\" class=\"dataframe\">\n",
       "  <thead>\n",
       "    <tr style=\"text-align: right;\">\n",
       "      <th></th>\n",
       "      <th>Tweet_count</th>\n",
       "      <th>ID</th>\n",
       "      <th>Username</th>\n",
       "      <th>Text</th>\n",
       "      <th>Created At</th>\n",
       "      <th>Retweets</th>\n",
       "      <th>Likes</th>\n",
       "    </tr>\n",
       "  </thead>\n",
       "  <tbody>\n",
       "    <tr>\n",
       "      <th>35</th>\n",
       "      <td>36</td>\n",
       "      <td>1905597014659707057</td>\n",
       "      <td>Elon Musk</td>\n",
       "      <td>AppLovin CEO uses Grok 3 https://t.co/aBUxHSs1XW</td>\n",
       "      <td>Fri Mar 28 12:25:07 +0000 2025</td>\n",
       "      <td>2579</td>\n",
       "      <td>15083</td>\n",
       "    </tr>\n",
       "    <tr>\n",
       "      <th>36</th>\n",
       "      <td>37</td>\n",
       "      <td>1905264864408256980</td>\n",
       "      <td>Elon Musk</td>\n",
       "      <td>Amazing</td>\n",
       "      <td>Thu Mar 27 14:25:16 +0000 2025</td>\n",
       "      <td>31652</td>\n",
       "      <td>144051</td>\n",
       "    </tr>\n",
       "    <tr>\n",
       "      <th>37</th>\n",
       "      <td>38</td>\n",
       "      <td>1905524404999639476</td>\n",
       "      <td>Elon Musk</td>\n",
       "      <td>Congratulations, Scott Ainsworth of Green Bay!</td>\n",
       "      <td>Fri Mar 28 07:36:35 +0000 2025</td>\n",
       "      <td>17573</td>\n",
       "      <td>116470</td>\n",
       "    </tr>\n",
       "    <tr>\n",
       "      <th>38</th>\n",
       "      <td>39</td>\n",
       "      <td>1906096684955775326</td>\n",
       "      <td>Elon Musk</td>\n",
       "      <td>True https://t.co/DWUadoe6mQ</td>\n",
       "      <td>Sat Mar 29 21:30:37 +0000 2025</td>\n",
       "      <td>14021</td>\n",
       "      <td>96023</td>\n",
       "    </tr>\n",
       "    <tr>\n",
       "      <th>39</th>\n",
       "      <td>40</td>\n",
       "      <td>1905021584064356526</td>\n",
       "      <td>Elon Musk</td>\n",
       "      <td>@DefiantLs We got a ringer here! @IfindRetards</td>\n",
       "      <td>Wed Mar 26 22:18:33 +0000 2025</td>\n",
       "      <td>1828</td>\n",
       "      <td>35392</td>\n",
       "    </tr>\n",
       "  </tbody>\n",
       "</table>\n",
       "</div>"
      ],
      "text/plain": [
       "    Tweet_count                   ID   Username  \\\n",
       "35           36  1905597014659707057  Elon Musk   \n",
       "36           37  1905264864408256980  Elon Musk   \n",
       "37           38  1905524404999639476  Elon Musk   \n",
       "38           39  1906096684955775326  Elon Musk   \n",
       "39           40  1905021584064356526  Elon Musk   \n",
       "\n",
       "                                                Text  \\\n",
       "35  AppLovin CEO uses Grok 3 https://t.co/aBUxHSs1XW   \n",
       "36                                           Amazing   \n",
       "37    Congratulations, Scott Ainsworth of Green Bay!   \n",
       "38                      True https://t.co/DWUadoe6mQ   \n",
       "39    @DefiantLs We got a ringer here! @IfindRetards   \n",
       "\n",
       "                        Created At  Retweets   Likes  \n",
       "35  Fri Mar 28 12:25:07 +0000 2025      2579   15083  \n",
       "36  Thu Mar 27 14:25:16 +0000 2025     31652  144051  \n",
       "37  Fri Mar 28 07:36:35 +0000 2025     17573  116470  \n",
       "38  Sat Mar 29 21:30:37 +0000 2025     14021   96023  \n",
       "39  Wed Mar 26 22:18:33 +0000 2025      1828   35392  "
      ]
     },
     "execution_count": 27,
     "metadata": {},
     "output_type": "execute_result"
    }
   ],
   "source": [
    "df.tail()"
   ]
  },
  {
   "cell_type": "code",
   "execution_count": 28,
   "metadata": {},
   "outputs": [],
   "source": [
    "df = df[[ 'ID', 'Username' , 'Text']]"
   ]
  },
  {
   "cell_type": "code",
   "execution_count": 30,
   "metadata": {},
   "outputs": [
    {
     "data": {
      "text/plain": [
       "(40, 3)"
      ]
     },
     "execution_count": 30,
     "metadata": {},
     "output_type": "execute_result"
    }
   ],
   "source": [
    "df.shape"
   ]
  },
  {
   "cell_type": "code",
   "execution_count": 33,
   "metadata": {},
   "outputs": [],
   "source": [
    "df = df.drop_duplicates()"
   ]
  },
  {
   "cell_type": "code",
   "execution_count": 34,
   "metadata": {},
   "outputs": [
    {
     "data": {
      "text/plain": [
       "(20, 3)"
      ]
     },
     "execution_count": 34,
     "metadata": {},
     "output_type": "execute_result"
    }
   ],
   "source": [
    "df.shape"
   ]
  },
  {
   "cell_type": "code",
   "execution_count": 36,
   "metadata": {},
   "outputs": [
    {
     "data": {
      "text/plain": [
       "15    AppLovin CEO uses Grok 3 https://t.co/aBUxHSs1XW\n",
       "16                                             Amazing\n",
       "17      Congratulations, Scott Ainsworth of Green Bay!\n",
       "18                        True https://t.co/DWUadoe6mQ\n",
       "19      @DefiantLs We got a ringer here! @IfindRetards\n",
       "Name: Text, dtype: object"
      ]
     },
     "execution_count": 36,
     "metadata": {},
     "output_type": "execute_result"
    }
   ],
   "source": [
    "df['Text'].tail()"
   ]
  },
  {
   "cell_type": "code",
   "execution_count": null,
   "metadata": {},
   "outputs": [],
   "source": []
  }
 ],
 "metadata": {
  "kernelspec": {
   "display_name": ".venv",
   "language": "python",
   "name": "python3"
  },
  "language_info": {
   "codemirror_mode": {
    "name": "ipython",
    "version": 3
   },
   "file_extension": ".py",
   "mimetype": "text/x-python",
   "name": "python",
   "nbconvert_exporter": "python",
   "pygments_lexer": "ipython3",
   "version": "3.12.2"
  }
 },
 "nbformat": 4,
 "nbformat_minor": 2
}
